{
 "cells": [
  {
   "cell_type": "code",
   "execution_count": 1,
   "id": "8c3cee5e-f2f2-487d-a87b-3df68c7c1688",
   "metadata": {},
   "outputs": [
    {
     "name": "stdout",
     "output_type": "stream",
     "text": [
      "       Brand         Model  Sales  Target\n",
      "0     Toyota  Land Cruiser  25000   40000\n",
      "1       Ford      EcoSport  48000   60000\n",
      "2      Buick        Encore  30000   75000\n",
      "3  Chevrolet     Aveo U-VA  18000   55000\n",
      "4        Kia      Carnival  33000   40000\n"
     ]
    }
   ],
   "source": [
    "import pandas as pd\n",
    "df = pd.read_excel(\"C:/Users/y/Downloads/CarSalesData.xlsx\")\n",
    "print(df.head())"
   ]
  },
  {
   "cell_type": "code",
   "execution_count": 2,
   "id": "7d1bb10c-68d1-4773-8f44-5c75e47025ff",
   "metadata": {},
   "outputs": [
    {
     "name": "stdout",
     "output_type": "stream",
     "text": [
      "(6, 4)\n"
     ]
    }
   ],
   "source": [
    "print(df.shape)"
   ]
  },
  {
   "cell_type": "code",
   "execution_count": 3,
   "id": "fc4c4b94-58d4-4f6a-bc6d-17b62ad372c1",
   "metadata": {},
   "outputs": [
    {
     "name": "stdout",
     "output_type": "stream",
     "text": [
      "Index(['Brand', 'Model', 'Sales', 'Target'], dtype='object')\n"
     ]
    }
   ],
   "source": [
    "print(df.columns)"
   ]
  },
  {
   "cell_type": "code",
   "execution_count": 4,
   "id": "b2e73bf7-024c-4440-8877-46b8eabe68e3",
   "metadata": {},
   "outputs": [
    {
     "name": "stdout",
     "output_type": "stream",
     "text": [
      "Brand     object\n",
      "Model     object\n",
      "Sales      int64\n",
      "Target     int64\n",
      "dtype: object\n"
     ]
    }
   ],
   "source": [
    "print(df.dtypes)"
   ]
  },
  {
   "cell_type": "code",
   "execution_count": 5,
   "id": "29f04030-99e9-421f-b541-55e47320ebff",
   "metadata": {},
   "outputs": [
    {
     "name": "stdout",
     "output_type": "stream",
     "text": [
      "Brand     0\n",
      "Model     0\n",
      "Sales     0\n",
      "Target    0\n",
      "dtype: int64\n"
     ]
    }
   ],
   "source": [
    "print(df.isnull().sum())"
   ]
  },
  {
   "cell_type": "code",
   "execution_count": 7,
   "id": "d83881b4-be2a-4403-8d12-d2b962973ce2",
   "metadata": {},
   "outputs": [
    {
     "name": "stdout",
     "output_type": "stream",
     "text": [
      "Total Revenue:  249000\n"
     ]
    }
   ],
   "source": [
    "print(\"Total Revenue: \", df['Sales'].sum())"
   ]
  },
  {
   "cell_type": "code",
   "execution_count": 8,
   "id": "bf6317c5-b52e-4402-bbdc-9adac8c6f90a",
   "metadata": {},
   "outputs": [
    {
     "name": "stdout",
     "output_type": "stream",
     "text": [
      "Average Sales:  41500.0\n",
      "Maximum Sale:  95000\n",
      "Minimum Sale:  18000\n"
     ]
    }
   ],
   "source": [
    "print(\"Average Sales: \", df['Sales'].mean())\n",
    "print(\"Maximum Sale: \", df['Sales'].max())\n",
    "print(\"Minimum Sale: \", df['Sales'].min())"
   ]
  },
  {
   "cell_type": "code",
   "execution_count": 10,
   "id": "46956922-f50e-43a6-b7ed-afbb4ea238ad",
   "metadata": {},
   "outputs": [
    {
     "name": "stdout",
     "output_type": "stream",
     "text": [
      "       Brand         Model  Sales  Target  Target % Achieved\n",
      "0     Toyota  Land Cruiser  25000   40000          62.500000\n",
      "1       Ford      EcoSport  48000   60000          80.000000\n",
      "2      Buick        Encore  30000   75000          40.000000\n",
      "3  Chevrolet     Aveo U-VA  18000   55000          32.727273\n",
      "4        Kia      Carnival  33000   40000          82.500000\n"
     ]
    }
   ],
   "source": [
    "# Target Achieved % for each row\n",
    "df['Target % Achieved'] = (df['Sales'] / df['Target']) * 100\n",
    "print(df.head())"
   ]
  },
  {
   "cell_type": "code",
   "execution_count": 14,
   "id": "31c492b5-125a-456c-8fa0-1a9721203dae",
   "metadata": {},
   "outputs": [
    {
     "name": "stdout",
     "output_type": "stream",
     "text": [
      "Overall Target Achievement: 71.14%\n"
     ]
    }
   ],
   "source": [
    "# Overall Target Achievement\n",
    "total_sales = df['Sales'].sum()\n",
    "total_target = df['Target'].sum()\n",
    "achievement_percent = (total_sales / total_target) * 100\n",
    "print(f\"Overall Target Achievement: {achievement_percent:.2f}%\")"
   ]
  },
  {
   "cell_type": "code",
   "execution_count": 15,
   "id": "d2ab327a-300b-4a2d-b187-9718fcbc5be1",
   "metadata": {},
   "outputs": [
    {
     "data": {
      "image/png": "[encoded data removed]",
      "text/plain": [
       "<Figure size 1000x600 with 1 Axes>"
      ]
     },
     "metadata": {},
     "output_type": "display_data"
    }
   ],
   "source": [
    "import matplotlib.pyplot as plt\n",
    "import seaborn as sns\n",
    "\n",
    "plt.figure(figsize=(10,6))\n",
    "sns.barplot(x='Brand', y='Sales', data=df, estimator=sum)\n",
    "plt.title(\"Total Sales by Brand\")\n",
    "plt.xticks(rotation=45)\n",
    "plt.tight_layout()\n",
    "plt.show()\n"
   ]
  },
  {
   "cell_type": "code",
   "execution_count": null,
   "id": "d2a2f774-a2c8-4651-8f94-30f29a6f6e07",
   "metadata": {},
   "outputs": [],
   "source": []
  }
 ],
 "metadata": {
  "kernelspec": {
   "display_name": "Python 3 (ipykernel)",
   "language": "python",
   "name": "python3"
  },
  "language_info": {
   "codemirror_mode": {
    "name": "ipython",
    "version": 3
   },
   "file_extension": ".py",
   "mimetype": "text/x-python",
   "name": "python",
   "nbconvert_exporter": "python",
   "pygments_lexer": "ipython3",
   "version": "3.13.5"
  }
 },
 "nbformat": 4,
 "nbformat_minor": 5
}
